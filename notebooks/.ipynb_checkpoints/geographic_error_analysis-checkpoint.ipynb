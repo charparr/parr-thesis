{
 "cells": [
  {
   "cell_type": "code",
   "execution_count": 2,
   "metadata": {},
   "outputs": [],
   "source": [
    "import pandas as pd\n",
    "import seaborn as sns\n",
    "import numpy as np\n",
    "import matplotlib.pyplot as plt"
   ]
  },
  {
   "cell_type": "code",
   "execution_count": 37,
   "metadata": {},
   "outputs": [
    {
     "data": {
      "text/html": [
       "<div>\n",
       "<style scoped>\n",
       "    .dataframe tbody tr th:only-of-type {\n",
       "        vertical-align: middle;\n",
       "    }\n",
       "\n",
       "    .dataframe tbody tr th {\n",
       "        vertical-align: top;\n",
       "    }\n",
       "\n",
       "    .dataframe thead th {\n",
       "        text-align: right;\n",
       "    }\n",
       "</style>\n",
       "<table border=\"1\" class=\"dataframe\">\n",
       "  <thead>\n",
       "    <tr style=\"text-align: right;\">\n",
       "      <th></th>\n",
       "      <th>Unnamed: 0</th>\n",
       "      <th>Unnamed: 0.1</th>\n",
       "      <th>UTM_E</th>\n",
       "      <th>UTM_N</th>\n",
       "      <th>MagnaProbe Depth [m]</th>\n",
       "      <th>geometry</th>\n",
       "      <th>Raster Value [m]</th>\n",
       "      <th>Probe-Raster Delta [m]</th>\n",
       "      <th>Raster Value Corrected [m]</th>\n",
       "      <th>Year</th>\n",
       "      <th>Study Area</th>\n",
       "    </tr>\n",
       "  </thead>\n",
       "  <tbody>\n",
       "    <tr>\n",
       "      <th>0</th>\n",
       "      <td>0</td>\n",
       "      <td>0</td>\n",
       "      <td>422637.925658</td>\n",
       "      <td>7.674614e+06</td>\n",
       "      <td>0.3410</td>\n",
       "      <td>POINT (422637.92565783 7674614.289540267)</td>\n",
       "      <td>0.436340</td>\n",
       "      <td>-0.095340</td>\n",
       "      <td>0.356340</td>\n",
       "      <td>2018</td>\n",
       "      <td>Happy Valley</td>\n",
       "    </tr>\n",
       "    <tr>\n",
       "      <th>1</th>\n",
       "      <td>1</td>\n",
       "      <td>1</td>\n",
       "      <td>422636.925775</td>\n",
       "      <td>7.674616e+06</td>\n",
       "      <td>0.3232</td>\n",
       "      <td>POINT (422636.9257748795 7674616.18459558)</td>\n",
       "      <td>0.520660</td>\n",
       "      <td>-0.197460</td>\n",
       "      <td>0.440660</td>\n",
       "      <td>2018</td>\n",
       "      <td>Happy Valley</td>\n",
       "    </tr>\n",
       "    <tr>\n",
       "      <th>2</th>\n",
       "      <td>2</td>\n",
       "      <td>2</td>\n",
       "      <td>422636.600034</td>\n",
       "      <td>7.674618e+06</td>\n",
       "      <td>0.4831</td>\n",
       "      <td>POINT (422636.6000335729 7674618.426386847)</td>\n",
       "      <td>0.569305</td>\n",
       "      <td>-0.086205</td>\n",
       "      <td>0.489305</td>\n",
       "      <td>2018</td>\n",
       "      <td>Happy Valley</td>\n",
       "    </tr>\n",
       "    <tr>\n",
       "      <th>3</th>\n",
       "      <td>3</td>\n",
       "      <td>3</td>\n",
       "      <td>422636.272506</td>\n",
       "      <td>7.674619e+06</td>\n",
       "      <td>0.4926</td>\n",
       "      <td>POINT (422636.2725060719 7674618.615322301)</td>\n",
       "      <td>0.569305</td>\n",
       "      <td>-0.076705</td>\n",
       "      <td>0.489305</td>\n",
       "      <td>2018</td>\n",
       "      <td>Happy Valley</td>\n",
       "    </tr>\n",
       "    <tr>\n",
       "      <th>4</th>\n",
       "      <td>4</td>\n",
       "      <td>4</td>\n",
       "      <td>422636.982464</td>\n",
       "      <td>7.674620e+06</td>\n",
       "      <td>0.6242</td>\n",
       "      <td>POINT (422636.9824642739 7674620.087788817)</td>\n",
       "      <td>0.609161</td>\n",
       "      <td>0.015039</td>\n",
       "      <td>0.529161</td>\n",
       "      <td>2018</td>\n",
       "      <td>Happy Valley</td>\n",
       "    </tr>\n",
       "  </tbody>\n",
       "</table>\n",
       "</div>"
      ],
      "text/plain": [
       "   Unnamed: 0  Unnamed: 0.1          UTM_E         UTM_N  \\\n",
       "0           0             0  422637.925658  7.674614e+06   \n",
       "1           1             1  422636.925775  7.674616e+06   \n",
       "2           2             2  422636.600034  7.674618e+06   \n",
       "3           3             3  422636.272506  7.674619e+06   \n",
       "4           4             4  422636.982464  7.674620e+06   \n",
       "\n",
       "   MagnaProbe Depth [m]                                     geometry  \\\n",
       "0                0.3410    POINT (422637.92565783 7674614.289540267)   \n",
       "1                0.3232   POINT (422636.9257748795 7674616.18459558)   \n",
       "2                0.4831  POINT (422636.6000335729 7674618.426386847)   \n",
       "3                0.4926  POINT (422636.2725060719 7674618.615322301)   \n",
       "4                0.6242  POINT (422636.9824642739 7674620.087788817)   \n",
       "\n",
       "   Raster Value [m]  Probe-Raster Delta [m]  Raster Value Corrected [m]  Year  \\\n",
       "0          0.436340               -0.095340                    0.356340  2018   \n",
       "1          0.520660               -0.197460                    0.440660  2018   \n",
       "2          0.569305               -0.086205                    0.489305  2018   \n",
       "3          0.569305               -0.076705                    0.489305  2018   \n",
       "4          0.609161                0.015039                    0.529161  2018   \n",
       "\n",
       "     Study Area  \n",
       "0  Happy Valley  \n",
       "1  Happy Valley  \n",
       "2  Happy Valley  \n",
       "3  Happy Valley  \n",
       "4  Happy Valley  "
      ]
     },
     "execution_count": 37,
     "metadata": {},
     "output_type": "execute_result"
    }
   ],
   "source": [
    "df = pd.read_csv('../validation/aggregate_results/aggregate_validation_results.csv')\n",
    "df.dropna(inplace=True)\n",
    "df.head()"
   ]
  },
  {
   "cell_type": "code",
   "execution_count": 11,
   "metadata": {},
   "outputs": [
    {
     "data": {
      "text/plain": [
       "array(['Happy Valley', 'CLPX'], dtype=object)"
      ]
     },
     "execution_count": 11,
     "metadata": {},
     "output_type": "execute_result"
    }
   ],
   "source": [
    "df['Study Area'].unique()"
   ]
  },
  {
   "cell_type": "code",
   "execution_count": 50,
   "metadata": {},
   "outputs": [
    {
     "ename": "ValueError",
     "evalue": "The truth value of an array with more than one element is ambiguous. Use a.any() or a.all()",
     "output_type": "error",
     "traceback": [
      "\u001b[0;31m-----------------------------------------------------------------------\u001b[0m",
      "\u001b[0;31mValueError\u001b[0m                            Traceback (most recent call last)",
      "\u001b[0;32m<ipython-input-50-67e45706c617>\u001b[0m in \u001b[0;36m<module>\u001b[0;34m()\u001b[0m\n\u001b[1;32m     10\u001b[0m                 \u001b[0mpalette\u001b[0m\u001b[0;34m=\u001b[0m\u001b[0;34m\"coolwarm\"\u001b[0m\u001b[0;34m,\u001b[0m\u001b[0;34m\u001b[0m\u001b[0m\n\u001b[1;32m     11\u001b[0m                 \u001b[0msize\u001b[0m\u001b[0;34m=\u001b[0m\u001b[0;34m\"err\"\u001b[0m\u001b[0;34m,\u001b[0m \u001b[0msizes\u001b[0m\u001b[0;34m=\u001b[0m\u001b[0;34m(\u001b[0m\u001b[0;36m1\u001b[0m\u001b[0;34m,\u001b[0m \u001b[0;36m10\u001b[0m\u001b[0;34m)\u001b[0m\u001b[0;34m,\u001b[0m \u001b[0mlinewidth\u001b[0m\u001b[0;34m=\u001b[0m\u001b[0;36m0\u001b[0m\u001b[0;34m,\u001b[0m\u001b[0;34m\u001b[0m\u001b[0m\n\u001b[0;32m---> 12\u001b[0;31m                 data=clpx, ax=ax)\n\u001b[0m\u001b[1;32m     13\u001b[0m \u001b[0;34m\u001b[0m\u001b[0m\n\u001b[1;32m     14\u001b[0m \u001b[0;31m# sns.scatterplot(x=\"UTM_E\", y=\"UTM_N\",\u001b[0m\u001b[0;34m\u001b[0m\u001b[0;34m\u001b[0m\u001b[0m\n",
      "\u001b[0;32m~/apps/miniconda3/envs/data-scratchbook/lib/python3.5/site-packages/seaborn/relational.py\u001b[0m in \u001b[0;36mscatterplot\u001b[0;34m(x, y, hue, style, size, data, palette, hue_order, hue_norm, sizes, size_order, size_norm, markers, style_order, x_bins, y_bins, units, estimator, ci, n_boot, alpha, x_jitter, y_jitter, legend, ax, **kwargs)\u001b[0m\n\u001b[1;32m   1339\u001b[0m         \u001b[0max\u001b[0m \u001b[0;34m=\u001b[0m \u001b[0mplt\u001b[0m\u001b[0;34m.\u001b[0m\u001b[0mgca\u001b[0m\u001b[0;34m(\u001b[0m\u001b[0;34m)\u001b[0m\u001b[0;34m\u001b[0m\u001b[0m\n\u001b[1;32m   1340\u001b[0m \u001b[0;34m\u001b[0m\u001b[0m\n\u001b[0;32m-> 1341\u001b[0;31m     \u001b[0mp\u001b[0m\u001b[0;34m.\u001b[0m\u001b[0mplot\u001b[0m\u001b[0;34m(\u001b[0m\u001b[0max\u001b[0m\u001b[0;34m,\u001b[0m \u001b[0mkwargs\u001b[0m\u001b[0;34m)\u001b[0m\u001b[0;34m\u001b[0m\u001b[0m\n\u001b[0m\u001b[1;32m   1342\u001b[0m \u001b[0;34m\u001b[0m\u001b[0m\n\u001b[1;32m   1343\u001b[0m     \u001b[0;32mreturn\u001b[0m \u001b[0max\u001b[0m\u001b[0;34m\u001b[0m\u001b[0m\n",
      "\u001b[0;32m~/apps/miniconda3/envs/data-scratchbook/lib/python3.5/site-packages/seaborn/relational.py\u001b[0m in \u001b[0;36mplot\u001b[0;34m(self, ax, kws)\u001b[0m\n\u001b[1;32m    928\u001b[0m         \u001b[0;32mif\u001b[0m \u001b[0mself\u001b[0m\u001b[0;34m.\u001b[0m\u001b[0mlegend\u001b[0m\u001b[0;34m:\u001b[0m\u001b[0;34m\u001b[0m\u001b[0m\n\u001b[1;32m    929\u001b[0m             \u001b[0mself\u001b[0m\u001b[0;34m.\u001b[0m\u001b[0madd_legend_data\u001b[0m\u001b[0;34m(\u001b[0m\u001b[0max\u001b[0m\u001b[0;34m)\u001b[0m\u001b[0;34m\u001b[0m\u001b[0m\n\u001b[0;32m--> 930\u001b[0;31m             \u001b[0mhandles\u001b[0m\u001b[0;34m,\u001b[0m \u001b[0m_\u001b[0m \u001b[0;34m=\u001b[0m \u001b[0max\u001b[0m\u001b[0;34m.\u001b[0m\u001b[0mget_legend_handles_labels\u001b[0m\u001b[0;34m(\u001b[0m\u001b[0;34m)\u001b[0m\u001b[0;34m\u001b[0m\u001b[0m\n\u001b[0m\u001b[1;32m    931\u001b[0m             \u001b[0;32mif\u001b[0m \u001b[0mhandles\u001b[0m\u001b[0;34m:\u001b[0m\u001b[0;34m\u001b[0m\u001b[0m\n\u001b[1;32m    932\u001b[0m                 \u001b[0max\u001b[0m\u001b[0;34m.\u001b[0m\u001b[0mlegend\u001b[0m\u001b[0;34m(\u001b[0m\u001b[0;34m)\u001b[0m\u001b[0;34m\u001b[0m\u001b[0m\n",
      "\u001b[0;32m~/apps/miniconda3/envs/data-scratchbook/lib/python3.5/site-packages/matplotlib/axes/_axes.py\u001b[0m in \u001b[0;36mget_legend_handles_labels\u001b[0;34m(self, legend_handler_map)\u001b[0m\n\u001b[1;32m    266\u001b[0m         \u001b[0;31m# pass through to legend.\u001b[0m\u001b[0;34m\u001b[0m\u001b[0;34m\u001b[0m\u001b[0m\n\u001b[1;32m    267\u001b[0m         handles, labels = mlegend._get_legend_handles_labels([self],\n\u001b[0;32m--> 268\u001b[0;31m                 legend_handler_map)\n\u001b[0m\u001b[1;32m    269\u001b[0m         \u001b[0;32mreturn\u001b[0m \u001b[0mhandles\u001b[0m\u001b[0;34m,\u001b[0m \u001b[0mlabels\u001b[0m\u001b[0;34m\u001b[0m\u001b[0m\n\u001b[1;32m    270\u001b[0m \u001b[0;34m\u001b[0m\u001b[0m\n",
      "\u001b[0;32m~/apps/miniconda3/envs/data-scratchbook/lib/python3.5/site-packages/matplotlib/legend.py\u001b[0m in \u001b[0;36m_get_legend_handles_labels\u001b[0;34m(axs, legend_handler_map)\u001b[0m\n\u001b[1;32m   1358\u001b[0m         if (label\n\u001b[1;32m   1359\u001b[0m                 \u001b[0;32mand\u001b[0m \u001b[0;32mnot\u001b[0m \u001b[0mlabel\u001b[0m\u001b[0;34m.\u001b[0m\u001b[0mstartswith\u001b[0m\u001b[0;34m(\u001b[0m\u001b[0;34m'_'\u001b[0m\u001b[0;34m)\u001b[0m\u001b[0;34m\u001b[0m\u001b[0m\n\u001b[0;32m-> 1360\u001b[0;31m                 and not _in_handles(handle, label)):\n\u001b[0m\u001b[1;32m   1361\u001b[0m             \u001b[0mhandles\u001b[0m\u001b[0;34m.\u001b[0m\u001b[0mappend\u001b[0m\u001b[0;34m(\u001b[0m\u001b[0mhandle\u001b[0m\u001b[0;34m)\u001b[0m\u001b[0;34m\u001b[0m\u001b[0m\n\u001b[1;32m   1362\u001b[0m             \u001b[0mlabels\u001b[0m\u001b[0;34m.\u001b[0m\u001b[0mappend\u001b[0m\u001b[0;34m(\u001b[0m\u001b[0mlabel\u001b[0m\u001b[0;34m)\u001b[0m\u001b[0;34m\u001b[0m\u001b[0m\n",
      "\u001b[0;32m~/apps/miniconda3/envs/data-scratchbook/lib/python3.5/site-packages/matplotlib/legend.py\u001b[0m in \u001b[0;36m_in_handles\u001b[0;34m(h, l)\u001b[0m\n\u001b[1;32m   1342\u001b[0m                 \u001b[0;32mpass\u001b[0m\u001b[0;34m\u001b[0m\u001b[0m\n\u001b[1;32m   1343\u001b[0m             \u001b[0;32mtry\u001b[0m\u001b[0;34m:\u001b[0m\u001b[0;34m\u001b[0m\u001b[0m\n\u001b[0;32m-> 1344\u001b[0;31m                 \u001b[0;32mif\u001b[0m \u001b[0mf_h\u001b[0m\u001b[0;34m.\u001b[0m\u001b[0mget_facecolor\u001b[0m\u001b[0;34m(\u001b[0m\u001b[0;34m)\u001b[0m \u001b[0;34m!=\u001b[0m \u001b[0mh\u001b[0m\u001b[0;34m.\u001b[0m\u001b[0mget_facecolor\u001b[0m\u001b[0;34m(\u001b[0m\u001b[0;34m)\u001b[0m\u001b[0;34m:\u001b[0m\u001b[0;34m\u001b[0m\u001b[0m\n\u001b[0m\u001b[1;32m   1345\u001b[0m                     \u001b[0;32mcontinue\u001b[0m\u001b[0;34m\u001b[0m\u001b[0m\n\u001b[1;32m   1346\u001b[0m             \u001b[0;32mexcept\u001b[0m \u001b[0mAttributeError\u001b[0m\u001b[0;34m:\u001b[0m\u001b[0;34m\u001b[0m\u001b[0m\n",
      "\u001b[0;31mValueError\u001b[0m: The truth value of an array with more than one element is ambiguous. Use a.any() or a.all()"
     ]
    },
    {
     "data": {
      "image/png": "[encoded data removed]",
      "text/plain": [
       "<matplotlib.figure.Figure at 0x7f30ab152978>"
      ]
     },
     "metadata": {},
     "output_type": "display_data"
    }
   ],
   "source": [
    "f, ax = plt.subplots(figsize=(12, 9))\n",
    "\n",
    "df['err'] = df['Probe-Raster Delta [m]'].abs().astype('float32')\n",
    "clpx = df[df['Study Area'] == 'CLPX']\n",
    "\n",
    "clpx.head()\n",
    "\n",
    "sns.scatterplot(x=\"UTM_E\", y=\"UTM_N\",\n",
    "                hue=\"Probe-Raster Delta [m]\",\n",
    "                palette=\"coolwarm\",\n",
    "                size=\"err\", sizes=(1, 10), linewidth=0,\n",
    "                data=clpx, ax=ax)\n",
    "\n",
    "# sns.scatterplot(x=\"UTM_E\", y=\"UTM_N\",\n",
    "#                 hue=\"Probe-Raster Delta [m]\",\n",
    "#                 palette=\"coolwarm\",\n",
    "#                 size=\"Absolute Error\", sizes=(1, 100), linewidth=0,\n",
    "#                 data=clpx, ax=ax)"
   ]
  },
  {
   "cell_type": "code",
   "execution_count": 45,
   "metadata": {},
   "outputs": [
    {
     "data": {
      "text/plain": [
       "numpy.float64"
      ]
     },
     "execution_count": 45,
     "metadata": {},
     "output_type": "execute_result"
    }
   ],
   "source": [
    "type(clpx.err.values[0])"
   ]
  },
  {
   "cell_type": "code",
   "execution_count": 43,
   "metadata": {},
   "outputs": [
    {
     "data": {
      "text/plain": [
       "51020     0.206696\n",
       "51021     0.234996\n",
       "51022     0.219091\n",
       "51023     0.308510\n",
       "51024     0.568126\n",
       "51025     0.551880\n",
       "51026     0.537303\n",
       "51027     0.567871\n",
       "51028     0.573486\n",
       "51029     0.567505\n",
       "51030     0.574890\n",
       "51031     0.590342\n",
       "51032     0.590342\n",
       "51033     0.606262\n",
       "51034     0.625244\n",
       "51035     0.612488\n",
       "51036     0.556396\n",
       "51037     0.588511\n",
       "51038     0.602234\n",
       "51039     0.564270\n",
       "51040     0.311730\n",
       "51041     0.322603\n",
       "51042     0.346294\n",
       "51043     0.547668\n",
       "51044     0.247571\n",
       "51045     0.344300\n",
       "51046     0.264383\n",
       "51047     0.550903\n",
       "51048     0.515991\n",
       "51049     0.484080\n",
       "            ...   \n",
       "141177    0.442975\n",
       "141178    0.425761\n",
       "141179    0.430188\n",
       "141180    0.513841\n",
       "141181    0.381408\n",
       "141182    0.433580\n",
       "141183    0.445255\n",
       "141184    0.361569\n",
       "141185    0.519577\n",
       "141186    0.452877\n",
       "141187    0.479659\n",
       "141188    0.504946\n",
       "141189    0.416217\n",
       "141190    0.460535\n",
       "141191    0.480890\n",
       "141192    0.506484\n",
       "141193    0.504564\n",
       "141194    0.502718\n",
       "141195    0.420483\n",
       "141196    0.390870\n",
       "141197    0.461542\n",
       "141198    0.320955\n",
       "141199    0.365286\n",
       "141200    0.372810\n",
       "141201    0.422210\n",
       "141202    0.402348\n",
       "141203    0.364593\n",
       "141204    0.477003\n",
       "141205    0.342389\n",
       "141206    0.461405\n",
       "Name: err, Length: 90187, dtype: float64"
      ]
     },
     "execution_count": 43,
     "metadata": {},
     "output_type": "execute_result"
    }
   ],
   "source": [
    "clpx.err"
   ]
  },
  {
   "cell_type": "code",
   "execution_count": null,
   "metadata": {},
   "outputs": [],
   "source": []
  }
 ],
 "metadata": {
  "kernelspec": {
   "display_name": "Python 3",
   "language": "python",
   "name": "python3"
  },
  "language_info": {
   "codemirror_mode": {
    "name": "ipython",
    "version": 3
   },
   "file_extension": ".py",
   "mimetype": "text/x-python",
   "name": "python",
   "nbconvert_exporter": "python",
   "pygments_lexer": "ipython3",
   "version": "3.5.4"
  }
 },
 "nbformat": 4,
 "nbformat_minor": 2
}

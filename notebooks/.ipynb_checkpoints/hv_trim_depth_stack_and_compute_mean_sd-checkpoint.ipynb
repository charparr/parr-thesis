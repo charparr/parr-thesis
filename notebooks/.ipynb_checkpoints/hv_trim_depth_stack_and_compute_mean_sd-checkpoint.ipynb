{
 "cells": [
  {
   "cell_type": "code",
   "execution_count": 1,
   "metadata": {},
   "outputs": [
    {
     "name": "stderr",
     "output_type": "stream",
     "text": [
      "/home/cparr/miniconda3/envs/masters/lib/python3.6/site-packages/numpy/core/fromnumeric.py:83: RuntimeWarning: overflow encountered in reduce\n",
      "  return ufunc.reduce(obj, axis, dtype, out, **passkwargs)\n",
      "/home/cparr/miniconda3/envs/masters/lib/python3.6/site-packages/ipykernel_launcher.py:22: RuntimeWarning: Mean of empty slice\n",
      "/home/cparr/miniconda3/envs/masters/lib/python3.6/site-packages/numpy/lib/nanfunctions.py:1545: RuntimeWarning: Degrees of freedom <= 0 for slice.\n",
      "  keepdims=keepdims)\n"
     ]
    }
   ],
   "source": [
    "import rasterio\n",
    "import numpy as np\n",
    "\n",
    "# Open the stacked geotiff and read it into a 3-D Array\n",
    "src = rasterio.open('../depth_dDEMs/hv/corrected/hv_depth_stack.tif')\n",
    "arr = src.read()\n",
    "# Get the metadata to write out the trimmed raster later on\n",
    "profile = src.profile\n",
    "# Convert no data and zero values to np.nan\n",
    "arr[arr == src.nodata] = np.nan\n",
    "arr[arr == 0] = np.nan\n",
    "# Mask out no data along the depth axis\n",
    "mask = ~np.isnan(arr).any(axis=0) * 1.0\n",
    "mask[mask == 0] = np.nan\n",
    "# Populate the mask with the snow depth data\n",
    "depth_stack_trimmed = (mask * arr).astype('float32')\n",
    "# Write it out to a new raster\n",
    "with rasterio.open('../depth_dDEMs/hv/corrected/hv_depth_stack_trimmed.tif', 'w', **profile) as dst:\n",
    "        dst.write(depth_stack_trimmed)\n",
    "        \n",
    "# Compute the mean and SD rasters\n",
    "arr_nanmean = np.nanmean(arr, axis=0)\n",
    "arr_nanstd = np.nanstd(arr, axis=0)\n",
    "# Prep the profile to write the above two rasters do disk\n",
    "profile2 = profile.copy()\n",
    "profile2['count'] = 1\n",
    "# Write them out to new rasters\n",
    "with rasterio.open('../depth_dDEMs/hv/corrected/hv_depth_stack_mean.tif', 'w', **profile2) as dst:\n",
    "        dst.write(arr_nanmean, 1)\n",
    "with rasterio.open('../depth_dDEMs/hv/corrected/hv_depth_stack_sd.tif', 'w', **profile2) as dst:\n",
    "        dst.write(arr_nanstd, 1)"
   ]
  },
  {
   "cell_type": "code",
   "execution_count": null,
   "metadata": {},
   "outputs": [],
   "source": []
  }
 ],
 "metadata": {
  "kernelspec": {
   "display_name": "Python 3",
   "language": "python",
   "name": "python3"
  },
  "language_info": {
   "codemirror_mode": {
    "name": "ipython",
    "version": 3
   },
   "file_extension": ".py",
   "mimetype": "text/x-python",
   "name": "python",
   "nbconvert_exporter": "python",
   "pygments_lexer": "ipython3",
   "version": "3.6.6"
  }
 },
 "nbformat": 4,
 "nbformat_minor": 2
}

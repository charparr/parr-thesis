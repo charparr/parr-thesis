{
 "cells": [
  {
   "cell_type": "code",
   "execution_count": null,
   "metadata": {
    "scrolled": true
   },
   "outputs": [],
   "source": [
    "import rasterio\n",
    "import pandas as pd\n",
    "import numpy as np\n",
    "import sys\n",
    "import matplotlib.pyplot as plt\n",
    "from glob import glob\n",
    "from math import *\n",
    "from skimage.filters import sobel, gaussian\n",
    "from skimage.segmentation import slic, watershed, mark_boundaries"
   ]
  },
  {
   "cell_type": "code",
   "execution_count": null,
   "metadata": {
    "scrolled": true
   },
   "outputs": [],
   "source": [
    "dir_path = '../random_forest_model/input_feature_data/tuolumne/three_meter/acker/'\n",
    "\n",
    "paths = []\n",
    "test_features = []\n",
    "titles = []\n",
    "\n",
    "for file_name in glob(dir_path + '*.tif'):\n",
    "    \n",
    "    paths.append(file_name)\n",
    "    \n",
    "paths = sorted(paths)\n",
    "\n",
    "for p in paths:\n",
    "    if 'depth' in p:\n",
    "        paths.remove(p)\n",
    "        paths.insert(0, p)\n",
    "        \n",
    "for p in paths:\n",
    "\n",
    "    titles.append(\"\".join((p.split('/')[-1][:-4]).split('_')[3:]))\n",
    "\n",
    "    src = rasterio.open(p)\n",
    "\n",
    "    test_features.append(src.read(1))\n"
   ]
  },
  {
   "cell_type": "code",
   "execution_count": null,
   "metadata": {
    "scrolled": false
   },
   "outputs": [],
   "source": [
    "d = dict(zip(titles, test_features))\n",
    "tpi = d['TPI']\n",
    "tri = d['TRI']\n",
    "dem = d['DEM']\n",
    "slope = d['slope']\n",
    "depth = d['snowdepthdDEM04072014']\n",
    "\n",
    "slope[np.isnan(slope)]=0\n",
    "tri[np.isnan(tri)]=0\n",
    "tpi[np.isnan(tpi)]=0\n",
    "slope[slope==-9999]=0\n",
    "tri[tri==-9999]=0\n",
    "tpi[tpi==-9999]=0\n",
    "dem[dem==-9999]=np.nan"
   ]
  },
  {
   "cell_type": "code",
   "execution_count": null,
   "metadata": {},
   "outputs": [],
   "source": [
    "def compute_wind_shelter(dem, resol, azimuth_vent, delta, inc, dmax):\n",
    "\n",
    "    # wind shelter config paramters\n",
    "    #resol = 3.0 # pixel size (m)\n",
    "    #azimuth_vent = 90.0        # azimuth of dominant wind in degrees\n",
    "    az1 = azimuth_vent - delta    # azimuth of dominant wind in degrees - some angle (-15° default)\n",
    "    az2 = azimuth_vent + delta    # azimuth of dominant wind in degrees + some angle (+15° default)\n",
    "    #inc = 5.0                  # increment to compute shift of wind (5° default)\n",
    "    #dmax = 50               # distance dmax in meters\n",
    "    # ======= end CONFIG ==============\n",
    "\n",
    "    nbvect = int(((az2 - az1) / inc) + 1) # number of vectors = number of directions to calculate (fig3, p528)\n",
    "    longvect = int(dmax / resol) # Length vectors based on the parameter dmax\n",
    "\n",
    "    # reading the input file\n",
    "    cols, rows = dem.shape\n",
    "\n",
    "    mnt = np.float32(dem)\n",
    "\n",
    "    # convert all degrees to radians\n",
    "    azimuth_vent = azimuth_vent / 180 * pi \n",
    "    az1 = az1 / 180.0 * pi\n",
    "    az2 = az2 / 180.0 * pi\n",
    "    inc = inc / 180.0 * pi\n",
    "\n",
    "    # I don't know what this is\n",
    "    # vect[][0]: les x, vect[][1]=mles y, vect[][2]=les dists\n",
    "\n",
    "    vects = np.zeros((nbvect, 3, longvect), np.float32)\n",
    "\n",
    "    # Calculation of straight line pixel coordinates for each vector\n",
    "    for n in range(0, nbvect):\n",
    "        \n",
    "        az = az1 + (n * inc)\n",
    "        print(\"Computing shelter for azimuth of \", az / pi * 180)\n",
    "        x = dmax * cos(az)\n",
    "        y = dmax * sin(az)\n",
    "        pixx = x / dmax\n",
    "        pixy = y / dmax\n",
    "        print(x, y, pixx, pixy) # these are the set of coords to compute wind shelter at\n",
    "        \n",
    "        for xx in range(1, longvect + 1):\n",
    "            vects[n][0][xx - 1] = round(xx * pixx)\n",
    "            vects[n][1][xx - 1] = round(xx * pixy)\n",
    "            vects[n][2][xx - 1] = sqrt(pow(float(vects[n][0][xx - 1]) * resol, 2)\n",
    "                                       + pow(float(vects[n][1][xx - 1]) * resol, 2))\n",
    "            \n",
    "            #print(vects[n][0][xx - 1],vects[n][1][xx - 1],vects[n][2][xx - 1])\n",
    "\n",
    "        maxx = max(0, int(np.max(vects[:, 0, :])) + 1)\n",
    "        maxy = max(0, int(np.max(vects[:, 1, :])) + 1)\n",
    "        minx = max(0, (int(np.min(vects[:, 0, :])) - 1) * -1)\n",
    "        miny = max(0, (int(np.min(vects[:, 1, :])) -1) * -1)\n",
    "        #print(minx,miny,maxx,maxy)\n",
    "\n",
    "    # empty array for output\n",
    "    mntout = np.zeros((rows, cols), np.float32)\n",
    "    # temporary storage for slopes\n",
    "    sx = np.zeros(nbvect)\n",
    "\n",
    "    # calculations for each pixel\n",
    "    hash10 = range(0, rows, int(rows / 10))\n",
    "    hash100 = range(0, rows, int(rows / 100))\n",
    "    maxyy = rows - maxy - 1\n",
    "    maxxx = cols - maxx - 1\n",
    "\n",
    "    for j in range(miny, maxyy, 1):\n",
    "        if j in hash10: print(hash10.index(j) * 10, '%', end=\"\")\n",
    "        if j in hash100: print('.', end=\"\")\n",
    "        sys.stdout.flush()\n",
    "        sx = sx * 0.0\n",
    "        for i in range(minx, maxxx, 1):\n",
    "            z = mnt[j, i]\n",
    "            \n",
    "            # calculates sx for 7 (nbvect) straight\n",
    "            for n in range(0, nbvect):\n",
    "                alt = mnt[np.int32(vects[n][1] + j), np.int32(vects[n][0] + i)] # numérateur de eq1 p528\n",
    "                sx[n] = np.max(np.tan((alt - z) / vects[n][2])) # eq 1 p528\n",
    "            \n",
    "            mntout[j, i] = np.average(sx) # eq 2 p 529 (ou comment écrire quelque chose de simple de manière compliquée!)\n",
    "\n",
    "    mntout = np.arctan(mntout) / pi * 180\n",
    "    return mntout\n"
   ]
  },
  {
   "cell_type": "code",
   "execution_count": null,
   "metadata": {},
   "outputs": [],
   "source": [
    "vects = [0, 45, 90, 135, 180, 225, 270, 315]\n",
    "vect_titles = [str(v) for v in vects]\n",
    "shelter_indices = []\n",
    "print(vect_titles)\n",
    "\n",
    "for v in vects:\n",
    "    shelter = compute_wind_shelter(dem, resol=3.0, azimuth_vent=v, delta=15.0, inc=5.0, dmax=10.0)\n",
    "    shelter_indices.append(shelter)\n",
    "\n",
    "    \n",
    "fig, axes = plt.subplots(nrows=2, ncols=4, sharex=True, figsize=(11, 11))\n",
    "\n",
    "for ax, feature, title in zip(axes.flat, shelter_indices, vect_titles):\n",
    "    \n",
    "    ax.imshow(feature)\n",
    "    ax.set_title(title)\n",
    "    ax.set_xticks([])\n",
    "    ax.set_yticks([])\n",
    "\n",
    "    \n",
    "# fig, ax = plt.subplots(2, 2, figsize=(8, 8), sharex=True, sharey=True)\n",
    "\n",
    "# ax[0, 0].imshow(dem)\n",
    "# ax[0, 0].set_title(\"DEM\")\n",
    "# ax[0, 1].imshow(mntout)\n",
    "# ax[0, 1].set_title('Shelter')\n",
    "# ax[1, 0].imshow(depth)\n",
    "# ax[1, 0].set_title('Depth')\n",
    "# ax[1, 1].imshow(tri)\n",
    "# ax[1, 1].set_title('TRI')"
   ]
  },
  {
   "cell_type": "code",
   "execution_count": null,
   "metadata": {
    "scrolled": false
   },
   "outputs": [],
   "source": [
    "fig, axes = plt.subplots(nrows=10, ncols=4, sharex=True, figsize=(15,30))\n",
    "\n",
    "# axes.flat returns the set of axes as a flat (1D) array instead\n",
    "# of the two-dimensional version we used earlier\n",
    "for ax, feature, title in zip(axes.flat, test_features, titles):\n",
    "    \n",
    "    if title == 'TPI':\n",
    "        ax.imshow(feature, vmin=0, vmax=1)\n",
    "        ax.set_title(title)\n",
    "        ax.set_xticks([])\n",
    "        ax.set_yticks([])\n",
    "        \n",
    "    elif title == 'TRI':\n",
    "        ax.imshow(feature, vmin=0, vmax=5)\n",
    "        ax.set_title(title)\n",
    "        ax.set_xticks([])\n",
    "        ax.set_yticks([])\n",
    "    \n",
    "    elif title == 'roughness':\n",
    "        ax.imshow(feature, vmin=0, vmax=10)\n",
    "        ax.set_title(title)\n",
    "        ax.set_xticks([])\n",
    "        ax.set_yticks([])\n",
    "        \n",
    "    elif title == 'slope':\n",
    "        ax.imshow(feature, vmin=0, vmax=60)\n",
    "        ax.set_title(title)\n",
    "        ax.set_xticks([])\n",
    "        ax.set_yticks([])\n",
    "        \n",
    "    elif 'sdslope' in title:\n",
    "        ax.imshow(feature, vmin=0, vmax=10)\n",
    "        ax.set_title(title)\n",
    "        ax.set_xticks([])\n",
    "        ax.set_yticks([])\n",
    "        \n",
    "    elif 'slopevariance' in title:\n",
    "        ax.imshow(feature, vmin=0, vmax=20)\n",
    "        ax.set_title(title)\n",
    "        ax.set_xticks([])\n",
    "        ax.set_yticks([])\n",
    "        \n",
    "    else:\n",
    "        ax.imshow(feature)\n",
    "        ax.set_title(title)\n",
    "        ax.set_xticks([])\n",
    "        ax.set_yticks([])"
   ]
  },
  {
   "cell_type": "code",
   "execution_count": null,
   "metadata": {
    "scrolled": false
   },
   "outputs": [],
   "source": [
    "from sklearn.preprocessing import StandardScaler, scale, MinMaxScaler\n",
    "sc = StandardScaler()\n",
    "mm = MinMaxScaler(feature_range=(0, 0.9999))\n",
    "\n",
    "mm.fit(dem)\n",
    "sc_dem = mm.transform(dem)\n",
    "mm.fit(slope)\n",
    "sc_slope = mm.transform(slope)\n",
    "mm.fit(tpi)\n",
    "sc_tpi = mm.transform(tpi)\n",
    "mm.fit(depth)\n",
    "sc_depth = mm.transform(depth)\n",
    "mm.fit(tri)\n",
    "sc_tri = mm.transform(tri)\n",
    "\n",
    "fig, ax = plt.subplots(2, 2, figsize=(8, 8), sharex=True, sharey=True)\n",
    "\n",
    "ax[0, 0].imshow(sc_dem)\n",
    "ax[0, 0].set_title(\"sc_DEM\")\n",
    "ax[0, 1].imshow(sc_slope)\n",
    "ax[0, 1].set_title('sc_SLOPE')\n",
    "ax[1, 0].imshow(sc_tpi)\n",
    "ax[1, 0].set_title('sc_TPI')\n",
    "ax[1, 1].imshow(sc_tri)\n",
    "ax[1, 1].set_title('sc_TRI')\n"
   ]
  },
  {
   "cell_type": "code",
   "execution_count": null,
   "metadata": {
    "scrolled": false
   },
   "outputs": [],
   "source": [
    "img = sc_tri\n",
    "\n",
    "segments_slic = slic(img, n_segments=24, compactness=0.1, sigma=2)\n",
    "\n",
    "print('SLIC number of segments: {}'.format(len(np.unique(segments_slic))))\n",
    "\n",
    "fig, ax = plt.subplots(2, 2, figsize=(10, 10), sharex=True, sharey=True)\n",
    "\n",
    "ax[0, 0].imshow(depth)\n",
    "ax[0, 0].set_title(\"depth\")\n",
    "plt.set_cmap('viridis')\n",
    "ax[0, 1].imshow(mark_boundaries(img, segments_slic))\n",
    "ax[0, 1].set_title('SLIC')\n",
    "ax[1, 0].imshow(mark_boundaries(sc_depth, segments_slic))\n",
    "ax[1, 0].set_title('SLIC over DEPTH')\n",
    "# ax[1, 1].imshow(mark_boundaries(sc_depth, segments_watershed))\n",
    "# ax[1, 1].set_title('Compact watershed')\n",
    "\n",
    "for a in ax.ravel():\n",
    "    a.set_axis_off()\n",
    "\n",
    "plt.tight_layout()\n",
    "plt.show()"
   ]
  },
  {
   "cell_type": "code",
   "execution_count": null,
   "metadata": {
    "scrolled": false
   },
   "outputs": [],
   "source": [
    "plt.imshow(sobel(sc_dem))"
   ]
  },
  {
   "cell_type": "code",
   "execution_count": null,
   "metadata": {
    "scrolled": false
   },
   "outputs": [],
   "source": [
    "from skimage.morphology import opening, closing, disk, diamond\n",
    "o = opening(a, selem=diamond(radius=15))\n",
    "plt.imshow(o)"
   ]
  },
  {
   "cell_type": "code",
   "execution_count": null,
   "metadata": {
    "scrolled": false
   },
   "outputs": [],
   "source": [
    "from skimage.measure import label, regionprops\n",
    "c = label(segments_slic)\n",
    "rp = regionprops(c, tpi)"
   ]
  },
  {
   "cell_type": "code",
   "execution_count": null,
   "metadata": {
    "scrolled": false
   },
   "outputs": [],
   "source": [
    "from skimage.restoration import (denoise_tv_chambolle, denoise_bilateral,\n",
    "                                 denoise_wavelet, estimate_sigma)\n",
    "from skimage.feature import blob_dog, blob_log, blob_doh\n",
    "from math import sqrt"
   ]
  },
  {
   "cell_type": "code",
   "execution_count": null,
   "metadata": {
    "scrolled": false
   },
   "outputs": [],
   "source": [
    "for r in rp:\n",
    "    print(r.mean_intensity)"
   ]
  },
  {
   "cell_type": "code",
   "execution_count": null,
   "metadata": {
    "scrolled": false
   },
   "outputs": [],
   "source": []
  }
 ],
 "metadata": {
  "kernelspec": {
   "display_name": "Python 3",
   "language": "python",
   "name": "python3"
  },
  "language_info": {
   "codemirror_mode": {
    "name": "ipython",
    "version": 3
   },
   "file_extension": ".py",
   "mimetype": "text/x-python",
   "name": "python",
   "nbconvert_exporter": "python",
   "pygments_lexer": "ipython3",
   "version": "3.5.4"
  }
 },
 "nbformat": 4,
 "nbformat_minor": 2
}

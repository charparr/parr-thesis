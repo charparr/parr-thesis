{
 "cells": [
  {
   "cell_type": "code",
   "execution_count": 3,
   "metadata": {},
   "outputs": [],
   "source": [
    "import pandas as pd\n",
    "import seaborn as sns\n",
    "import numpy as np\n",
    "import matplotlib.pyplot as plt\n",
    "import scipy\n",
    "sns.set_style('white')\n",
    "sns.set_context('paper')"
   ]
  },
  {
   "cell_type": "code",
   "execution_count": 2,
   "metadata": {},
   "outputs": [
    {
     "data": {
      "text/html": [
       "<div>\n",
       "<style scoped>\n",
       "    .dataframe tbody tr th:only-of-type {\n",
       "        vertical-align: middle;\n",
       "    }\n",
       "\n",
       "    .dataframe tbody tr th {\n",
       "        vertical-align: top;\n",
       "    }\n",
       "\n",
       "    .dataframe thead th {\n",
       "        text-align: right;\n",
       "    }\n",
       "</style>\n",
       "<table border=\"1\" class=\"dataframe\">\n",
       "  <thead>\n",
       "    <tr style=\"text-align: right;\">\n",
       "      <th></th>\n",
       "      <th>UTM_E</th>\n",
       "      <th>UTM_N</th>\n",
       "      <th>MagnaProbe Depth [m]</th>\n",
       "      <th>geometry</th>\n",
       "      <th>Raster Value [m]</th>\n",
       "      <th>Probe-Raster Delta [m]</th>\n",
       "      <th>Raster Value Corrected [m]</th>\n",
       "      <th>Year</th>\n",
       "      <th>Study Area</th>\n",
       "      <th>Error [m]</th>\n",
       "      <th>aspect</th>\n",
       "      <th>slope</th>\n",
       "      <th>Aspect Label</th>\n",
       "    </tr>\n",
       "  </thead>\n",
       "  <tbody>\n",
       "    <tr>\n",
       "      <th>0</th>\n",
       "      <td>409625.309723</td>\n",
       "      <td>7.617305e+06</td>\n",
       "      <td>0.7659</td>\n",
       "      <td>POINT (409625.3097232447 7617304.648330711)</td>\n",
       "      <td>0.559204</td>\n",
       "      <td>0.206696</td>\n",
       "      <td>0.809204</td>\n",
       "      <td>2018</td>\n",
       "      <td>CLPX</td>\n",
       "      <td>0.206696</td>\n",
       "      <td>38.632992</td>\n",
       "      <td>1.749862</td>\n",
       "      <td>NE</td>\n",
       "    </tr>\n",
       "    <tr>\n",
       "      <th>1</th>\n",
       "      <td>409625.303271</td>\n",
       "      <td>7.617304e+06</td>\n",
       "      <td>0.7942</td>\n",
       "      <td>POINT (409625.3032707528 7617304.470029737)</td>\n",
       "      <td>0.559204</td>\n",
       "      <td>0.234996</td>\n",
       "      <td>0.809204</td>\n",
       "      <td>2018</td>\n",
       "      <td>CLPX</td>\n",
       "      <td>0.234996</td>\n",
       "      <td>38.632992</td>\n",
       "      <td>1.749862</td>\n",
       "      <td>NE</td>\n",
       "    </tr>\n",
       "    <tr>\n",
       "      <th>2</th>\n",
       "      <td>409625.507953</td>\n",
       "      <td>7.617303e+06</td>\n",
       "      <td>0.7609</td>\n",
       "      <td>POINT (409625.5079526542 7617302.599168913)</td>\n",
       "      <td>0.541809</td>\n",
       "      <td>0.219091</td>\n",
       "      <td>0.791809</td>\n",
       "      <td>2018</td>\n",
       "      <td>CLPX</td>\n",
       "      <td>0.219091</td>\n",
       "      <td>74.649864</td>\n",
       "      <td>1.479253</td>\n",
       "      <td>NE</td>\n",
       "    </tr>\n",
       "    <tr>\n",
       "      <th>3</th>\n",
       "      <td>409626.447111</td>\n",
       "      <td>7.617302e+06</td>\n",
       "      <td>0.8480</td>\n",
       "      <td>POINT (409626.4471109976 7617302.375489335)</td>\n",
       "      <td>0.539490</td>\n",
       "      <td>0.308510</td>\n",
       "      <td>0.789490</td>\n",
       "      <td>2018</td>\n",
       "      <td>CLPX</td>\n",
       "      <td>0.308510</td>\n",
       "      <td>88.776245</td>\n",
       "      <td>1.309718</td>\n",
       "      <td>NE</td>\n",
       "    </tr>\n",
       "    <tr>\n",
       "      <th>4</th>\n",
       "      <td>409624.979279</td>\n",
       "      <td>7.617301e+06</td>\n",
       "      <td>0.0006</td>\n",
       "      <td>POINT (409624.9792791235 7617301.134233069)</td>\n",
       "      <td>0.568726</td>\n",
       "      <td>-0.568126</td>\n",
       "      <td>0.818726</td>\n",
       "      <td>2018</td>\n",
       "      <td>CLPX</td>\n",
       "      <td>-0.568126</td>\n",
       "      <td>80.057343</td>\n",
       "      <td>1.953727</td>\n",
       "      <td>NE</td>\n",
       "    </tr>\n",
       "  </tbody>\n",
       "</table>\n",
       "</div>"
      ],
      "text/plain": [
       "           UTM_E         UTM_N  MagnaProbe Depth [m]  \\\n",
       "0  409625.309723  7.617305e+06                0.7659   \n",
       "1  409625.303271  7.617304e+06                0.7942   \n",
       "2  409625.507953  7.617303e+06                0.7609   \n",
       "3  409626.447111  7.617302e+06                0.8480   \n",
       "4  409624.979279  7.617301e+06                0.0006   \n",
       "\n",
       "                                      geometry  Raster Value [m]  \\\n",
       "0  POINT (409625.3097232447 7617304.648330711)          0.559204   \n",
       "1  POINT (409625.3032707528 7617304.470029737)          0.559204   \n",
       "2  POINT (409625.5079526542 7617302.599168913)          0.541809   \n",
       "3  POINT (409626.4471109976 7617302.375489335)          0.539490   \n",
       "4  POINT (409624.9792791235 7617301.134233069)          0.568726   \n",
       "\n",
       "   Probe-Raster Delta [m]  Raster Value Corrected [m]  Year Study Area  \\\n",
       "0                0.206696                    0.809204  2018       CLPX   \n",
       "1                0.234996                    0.809204  2018       CLPX   \n",
       "2                0.219091                    0.791809  2018       CLPX   \n",
       "3                0.308510                    0.789490  2018       CLPX   \n",
       "4               -0.568126                    0.818726  2018       CLPX   \n",
       "\n",
       "   Error [m]     aspect     slope Aspect Label  \n",
       "0   0.206696  38.632992  1.749862           NE  \n",
       "1   0.234996  38.632992  1.749862           NE  \n",
       "2   0.219091  74.649864  1.479253           NE  \n",
       "3   0.308510  88.776245  1.309718           NE  \n",
       "4  -0.568126  80.057343  1.953727           NE  "
      ]
     },
     "execution_count": 2,
     "metadata": {},
     "output_type": "execute_result"
    }
   ],
   "source": [
    "df = pd.read_csv('../validation/aggregate_results/topo_metric_error_analysis.csv')\n",
    "df.dropna(inplace=True)\n",
    "for c in df.columns:\n",
    "    if 'Unnamed' in c:\n",
    "        del df[c]\n",
    "df.head()"
   ]
  },
  {
   "cell_type": "code",
   "execution_count": 4,
   "metadata": {},
   "outputs": [],
   "source": [
    "df['Error [m]'] = df['Probe-Raster Delta [m]'].astype('float32')"
   ]
  },
  {
   "cell_type": "code",
   "execution_count": 7,
   "metadata": {},
   "outputs": [
    {
     "data": {
      "image/png": "[encoded data removed]",
      "text/plain": [
       "<Figure size 1152x720 with 1 Axes>"
      ]
     },
     "metadata": {},
     "output_type": "display_data"
    }
   ],
   "source": [
    "plt.figure(figsize=(16,10))\n",
    "ax = sns.boxplot(x=\"Aspect Label\", y=\"Error [m]\", hue=\"Study Area\",\n",
    "                 data=df, palette=\"Set3\")"
   ]
  },
  {
   "cell_type": "code",
   "execution_count": null,
   "metadata": {},
   "outputs": [],
   "source": []
  }
 ],
 "metadata": {
  "kernelspec": {
   "display_name": "Python 3",
   "language": "python",
   "name": "python3"
  },
  "language_info": {
   "codemirror_mode": {
    "name": "ipython",
    "version": 3
   },
   "file_extension": ".py",
   "mimetype": "text/x-python",
   "name": "python",
   "nbconvert_exporter": "python",
   "pygments_lexer": "ipython3",
   "version": "3.6.6"
  }
 },
 "nbformat": 4,
 "nbformat_minor": 2
}

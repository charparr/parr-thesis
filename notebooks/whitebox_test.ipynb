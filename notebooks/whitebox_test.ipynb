{
 "cells": [
  {
   "cell_type": "code",
   "execution_count": 1,
   "metadata": {},
   "outputs": [
    {
     "name": "stdout",
     "output_type": "stream",
     "text": [
      "Downloading WhiteboxTools pre-compiled binary for first time use ...\n",
      "Decompressing WhiteboxTools_linux_amd64.tar.xz ...\n",
      "WhiteboxTools package directory: /home/cparr/miniconda3/envs/whitebox/lib/python3.7/site-packages/whitebox\n",
      "Downloading testdata ...\n"
     ]
    }
   ],
   "source": [
    "import whitebox\n",
    "wbt = whitebox.WhiteboxTools()"
   ]
  },
  {
   "cell_type": "code",
   "execution_count": null,
   "metadata": {},
   "outputs": [],
   "source": [
    "print(wbt.help())"
   ]
  }
 ],
 "metadata": {
  "kernelspec": {
   "display_name": "Python 3",
   "language": "python",
   "name": "python3"
  },
  "language_info": {
   "codemirror_mode": {
    "name": "ipython",
    "version": 3
   },
   "file_extension": ".py",
   "mimetype": "text/x-python",
   "name": "python",
   "nbconvert_exporter": "python",
   "pygments_lexer": "ipython3",
   "version": "3.7.1"
  }
 },
 "nbformat": 4,
 "nbformat_minor": 2
}
